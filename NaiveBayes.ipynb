{
 "cells": [
  {
   "cell_type": "code",
   "execution_count": 15,
   "id": "219c594f-844d-4eaf-b38b-5708398be115",
   "metadata": {},
   "outputs": [],
   "source": [
    "import numpy as np\n",
    "import pandas as pd\n",
    "import matplotlib.pyplot as plt \n",
    "from sklearn.model_selection import train_test_split\n",
    "from sklearn.naive_bayes import GaussianNB\n",
    "from sklearn.metrics import accuracy_score, ConfusionMatrixDisplay, plot_confusion_matrix, classification_report, f1_score\n",
    "from sklearn.preprocessing import StandardScaler"
   ]
  },
  {
   "cell_type": "markdown",
   "id": "8694525c-f4dc-4178-9348-9b7f3f1ba5cb",
   "metadata": {},
   "source": [
    "## Splitting data into a training and validation set"
   ]
  },
  {
   "cell_type": "code",
   "execution_count": 3,
   "id": "d744a1e9-b777-42f7-947d-d366f2bb2685",
   "metadata": {},
   "outputs": [],
   "source": [
    "train = pd.read_csv('train.csv').drop(columns=['Unnamed: 0'])\n",
    "test = pd.read_csv('test_nolabels.csv').drop(columns=['S.No'])\n",
    "X = train.drop(columns='LABELS')\n",
    "y = train.loc[:,['LABELS']]\n",
    "X_train, X_val, y_train, y_val = train_test_split(X, y, test_size=0.2,random_state=1, stratify=y)"
   ]
  },
  {
   "cell_type": "markdown",
   "id": "98eb8c22-4ccf-4f66-9b64-27a2386c5217",
   "metadata": {},
   "source": [
    "## Standarization of the training and test points"
   ]
  },
  {
   "cell_type": "code",
   "execution_count": 4,
   "id": "37afd474-de54-412b-8c83-c45ab88b4693",
   "metadata": {},
   "outputs": [],
   "source": [
    "scaler = StandardScaler()\n",
    "scaler.fit(X_train)\n",
    "X_train_norm = scaler.transform(X_train)\n",
    "X_val_norm = scaler.transform(X_val)\n",
    "X_test = scaler.transform(test)"
   ]
  },
  {
   "cell_type": "markdown",
   "id": "cecec35b-eb40-4db1-9044-1a65c8d732cc",
   "metadata": {},
   "source": [
    "## Fitting our model"
   ]
  },
  {
   "cell_type": "code",
   "execution_count": 5,
   "id": "d9e9381f-c23a-4c03-8dbe-d66f96549b6c",
   "metadata": {},
   "outputs": [],
   "source": [
    "gnb = GaussianNB()"
   ]
  },
  {
   "cell_type": "code",
   "execution_count": 8,
   "id": "2109133d-4273-4e76-bc41-4ac8b77b8280",
   "metadata": {},
   "outputs": [
    {
     "data": {
      "text/plain": [
       "GaussianNB()"
      ]
     },
     "execution_count": 8,
     "metadata": {},
     "output_type": "execute_result"
    }
   ],
   "source": [
    "gnb.fit(X_train_norm,np.ravel(y_train))"
   ]
  },
  {
   "cell_type": "markdown",
   "id": "e8d542bc-9f2f-4784-965e-b893328b21e2",
   "metadata": {},
   "source": [
    "## Obtaining accuracy and f1-score on validation set"
   ]
  },
  {
   "cell_type": "code",
   "execution_count": 11,
   "id": "0f8641f5-dab3-45cc-8dd8-cd397dd4947d",
   "metadata": {},
   "outputs": [
    {
     "name": "stdout",
     "output_type": "stream",
     "text": [
      "Accuracy: 71.12%\n"
     ]
    }
   ],
   "source": [
    "val_preds = gnb.predict(X_val_norm)\n",
    "accuracy = accuracy_score(y_val,val_preds)\n",
    "print('Accuracy: {}%'.format(np.around(accuracy*100, 2)))"
   ]
  },
  {
   "cell_type": "code",
   "execution_count": 12,
   "id": "bd39f305-f6bc-4c50-99b0-d474f804c042",
   "metadata": {},
   "outputs": [
    {
     "name": "stdout",
     "output_type": "stream",
     "text": [
      "0.7922492313047514\n"
     ]
    }
   ],
   "source": [
    "print(f1_score(y_val, val_preds, average=\"binary\"))"
   ]
  },
  {
   "cell_type": "markdown",
   "id": "0028421b-6fdf-45f3-b49c-64bb1342beef",
   "metadata": {},
   "source": [
    "## Data visualization"
   ]
  },
  {
   "cell_type": "code",
   "execution_count": 13,
   "id": "979f701d-22ca-43e8-8ee2-9e2e044bed3f",
   "metadata": {},
   "outputs": [
    {
     "name": "stdout",
     "output_type": "stream",
     "text": [
      "              precision    recall  f1-score   support\n",
      "\n",
      "         0.0       0.58      0.48      0.53      4157\n",
      "         1.0       0.76      0.83      0.79      8243\n",
      "\n",
      "    accuracy                           0.71     12400\n",
      "   macro avg       0.67      0.65      0.66     12400\n",
      "weighted avg       0.70      0.71      0.70     12400\n",
      "\n"
     ]
    }
   ],
   "source": [
    "print(classification_report(y_val,val_preds))"
   ]
  },
  {
   "cell_type": "code",
   "execution_count": 16,
   "id": "26004795-fd3e-4a02-a98c-bed483623ca7",
   "metadata": {},
   "outputs": [
    {
     "name": "stderr",
     "output_type": "stream",
     "text": [
      "/Users/mahdikleit/opt/anaconda3/lib/python3.8/site-packages/sklearn/utils/deprecation.py:87: FutureWarning: Function plot_confusion_matrix is deprecated; Function `plot_confusion_matrix` is deprecated in 1.0 and will be removed in 1.2. Use one of the class methods: ConfusionMatrixDisplay.from_predictions or ConfusionMatrixDisplay.from_estimator.\n",
      "  warnings.warn(msg, category=FutureWarning)\n"
     ]
    },
    {
     "data": {
      "image/png": "[encoded data removed]",
      "text/plain": [
       "<Figure size 720x720 with 2 Axes>"
      ]
     },
     "metadata": {
      "needs_background": "light"
     },
     "output_type": "display_data"
    }
   ],
   "source": [
    "fig,ax = plt.subplots(figsize=(10,10))\n",
    "plot_confusion_matrix(gnb,X_val_norm,y_val, ax=ax)\n",
    "plt.show()"
   ]
  },
  {
   "cell_type": "markdown",
   "id": "b20ea128-1db9-44e7-b927-5c3b6a6b2918",
   "metadata": {},
   "source": [
    "## Obtaing the predictions on the test set"
   ]
  },
  {
   "cell_type": "code",
   "execution_count": 18,
   "id": "381f51b8-dacf-4313-8c63-430480c48012",
   "metadata": {},
   "outputs": [],
   "source": [
    "test_labels = gnb.predict(X_test).astype(int)\n",
    "df_submission = pd.DataFrame({'LABELS':test_labels})\n",
    "df_submission.reset_index(inplace=True)\n",
    "df_submission.rename(columns={'index':'S.No'},inplace=True)\n",
    "df_submission.LABELS.value_counts()\n",
    "df_submission.LABELS.value_counts()\n",
    "df_submission.to_csv('predictions_weighted_NB.csv',index=False)"
   ]
  },
  {
   "cell_type": "code",
   "execution_count": null,
   "id": "485d4847-14ce-4485-b2f9-fb6553ce11c9",
   "metadata": {},
   "outputs": [],
   "source": []
  }
 ],
 "metadata": {
  "kernelspec": {
   "display_name": "Python 3",
   "language": "python",
   "name": "python3"
  },
  "language_info": {
   "codemirror_mode": {
    "name": "ipython",
    "version": 3
   },
   "file_extension": ".py",
   "mimetype": "text/x-python",
   "name": "python",
   "nbconvert_exporter": "python",
   "pygments_lexer": "ipython3",
   "version": "3.8.8"
  }
 },
 "nbformat": 4,
 "nbformat_minor": 5
}
