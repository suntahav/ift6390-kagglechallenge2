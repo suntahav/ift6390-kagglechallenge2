{
 "cells": [
  {
   "cell_type": "markdown",
   "id": "127ea1f4",
   "metadata": {},
   "source": [
    "#### Imports"
   ]
  },
  {
   "cell_type": "code",
   "execution_count": 23,
   "id": "245b9c60-f83f-472c-a8a1-b422e78f2a0a",
   "metadata": {},
   "outputs": [],
   "source": [
    "import numpy as np\n",
    "import pandas as pd\n",
    "import matplotlib.pyplot as plt"
   ]
  },
  {
   "cell_type": "code",
   "execution_count": 24,
   "id": "4a786ba8-7e62-4e8c-8bd7-950cde6c9412",
   "metadata": {},
   "outputs": [],
   "source": [
    "from sklearn.ensemble import RandomForestClassifier\n",
    "from sklearn.model_selection import GridSearchCV, cross_val_score\n",
    "from sklearn.pipeline import Pipeline\n",
    "from sklearn.preprocessing import StandardScaler"
   ]
  },
  {
   "cell_type": "markdown",
   "id": "8f72d345",
   "metadata": {},
   "source": [
    "#### Read Data and Preprocessing"
   ]
  },
  {
   "cell_type": "code",
   "execution_count": 25,
   "id": "f08b5d9c-5251-43bd-a2c6-9e2b27ef92fb",
   "metadata": {},
   "outputs": [
    {
     "data": {
      "text/html": [
       "<div>\n",
       "<style scoped>\n",
       "    .dataframe tbody tr th:only-of-type {\n",
       "        vertical-align: middle;\n",
       "    }\n",
       "\n",
       "    .dataframe tbody tr th {\n",
       "        vertical-align: top;\n",
       "    }\n",
       "\n",
       "    .dataframe thead th {\n",
       "        text-align: right;\n",
       "    }\n",
       "</style>\n",
       "<table border=\"1\" class=\"dataframe\">\n",
       "  <thead>\n",
       "    <tr style=\"text-align: right;\">\n",
       "      <th></th>\n",
       "      <th>S2_B2_jan</th>\n",
       "      <th>S2_B3_jan</th>\n",
       "      <th>S2_B4_jan</th>\n",
       "      <th>S2_B5_jan</th>\n",
       "      <th>S2_B6_jan</th>\n",
       "      <th>S2_B7_jan</th>\n",
       "      <th>S2_B8_jan</th>\n",
       "      <th>S2_B8A_jan</th>\n",
       "      <th>S2_B9_jan</th>\n",
       "      <th>S2_B11_jan</th>\n",
       "      <th>...</th>\n",
       "      <th>S2_B11_dec</th>\n",
       "      <th>S2_B12_dec</th>\n",
       "      <th>S1_VV_dec</th>\n",
       "      <th>S1_VH_dec</th>\n",
       "      <th>ERA5_temperature_2m_dec</th>\n",
       "      <th>ERA5_total_precipitation_dec</th>\n",
       "      <th>topo_elevation_dec</th>\n",
       "      <th>topo_slope_dec</th>\n",
       "      <th>NDVI_dec</th>\n",
       "      <th>LABELS</th>\n",
       "    </tr>\n",
       "  </thead>\n",
       "  <tbody>\n",
       "    <tr>\n",
       "      <th>0</th>\n",
       "      <td>-14.271277</td>\n",
       "      <td>-21.134172</td>\n",
       "      <td>957.531174</td>\n",
       "      <td>1019.557045</td>\n",
       "      <td>1230.022834</td>\n",
       "      <td>1435.138891</td>\n",
       "      <td>1693.702270</td>\n",
       "      <td>1805.411109</td>\n",
       "      <td>1891.557355</td>\n",
       "      <td>2020.567257</td>\n",
       "      <td>...</td>\n",
       "      <td>2203.025469</td>\n",
       "      <td>795.862978</td>\n",
       "      <td>2747.777894</td>\n",
       "      <td>1688.997611</td>\n",
       "      <td>289.382220</td>\n",
       "      <td>0.000147</td>\n",
       "      <td>1886.384195</td>\n",
       "      <td>0.749163</td>\n",
       "      <td>0.307887</td>\n",
       "      <td>0.0</td>\n",
       "    </tr>\n",
       "    <tr>\n",
       "      <th>1</th>\n",
       "      <td>-12.341429</td>\n",
       "      <td>-14.744978</td>\n",
       "      <td>949.227883</td>\n",
       "      <td>895.845779</td>\n",
       "      <td>987.517322</td>\n",
       "      <td>1350.496916</td>\n",
       "      <td>1930.239804</td>\n",
       "      <td>2048.686546</td>\n",
       "      <td>2375.680146</td>\n",
       "      <td>2259.903290</td>\n",
       "      <td>...</td>\n",
       "      <td>2922.382762</td>\n",
       "      <td>1140.796180</td>\n",
       "      <td>2528.590979</td>\n",
       "      <td>1934.261859</td>\n",
       "      <td>266.578370</td>\n",
       "      <td>0.002876</td>\n",
       "      <td>69.876216</td>\n",
       "      <td>1.385904</td>\n",
       "      <td>0.097779</td>\n",
       "      <td>1.0</td>\n",
       "    </tr>\n",
       "    <tr>\n",
       "      <th>2</th>\n",
       "      <td>-12.317847</td>\n",
       "      <td>-17.026201</td>\n",
       "      <td>1087.616069</td>\n",
       "      <td>1086.401035</td>\n",
       "      <td>1185.755955</td>\n",
       "      <td>1529.674085</td>\n",
       "      <td>1858.981635</td>\n",
       "      <td>1904.667487</td>\n",
       "      <td>2082.954737</td>\n",
       "      <td>2115.713139</td>\n",
       "      <td>...</td>\n",
       "      <td>2548.726966</td>\n",
       "      <td>521.102434</td>\n",
       "      <td>1556.082048</td>\n",
       "      <td>741.212901</td>\n",
       "      <td>276.467873</td>\n",
       "      <td>0.001622</td>\n",
       "      <td>91.279743</td>\n",
       "      <td>2.125908</td>\n",
       "      <td>0.418492</td>\n",
       "      <td>1.0</td>\n",
       "    </tr>\n",
       "    <tr>\n",
       "      <th>3</th>\n",
       "      <td>-15.332478</td>\n",
       "      <td>-20.978203</td>\n",
       "      <td>2987.224569</td>\n",
       "      <td>3163.553102</td>\n",
       "      <td>3412.572434</td>\n",
       "      <td>3908.443371</td>\n",
       "      <td>4044.232162</td>\n",
       "      <td>4231.353770</td>\n",
       "      <td>3682.709329</td>\n",
       "      <td>4518.882323</td>\n",
       "      <td>...</td>\n",
       "      <td>2537.545246</td>\n",
       "      <td>1073.588565</td>\n",
       "      <td>2388.141112</td>\n",
       "      <td>1367.682434</td>\n",
       "      <td>276.101799</td>\n",
       "      <td>0.003720</td>\n",
       "      <td>767.817294</td>\n",
       "      <td>8.427714</td>\n",
       "      <td>0.336528</td>\n",
       "      <td>1.0</td>\n",
       "    </tr>\n",
       "    <tr>\n",
       "      <th>4</th>\n",
       "      <td>-11.739502</td>\n",
       "      <td>-11.374262</td>\n",
       "      <td>691.825857</td>\n",
       "      <td>782.111227</td>\n",
       "      <td>478.448214</td>\n",
       "      <td>976.753128</td>\n",
       "      <td>3189.134129</td>\n",
       "      <td>3813.893119</td>\n",
       "      <td>3861.824527</td>\n",
       "      <td>4174.591554</td>\n",
       "      <td>...</td>\n",
       "      <td>4276.302643</td>\n",
       "      <td>371.861994</td>\n",
       "      <td>2080.641023</td>\n",
       "      <td>692.730434</td>\n",
       "      <td>298.663246</td>\n",
       "      <td>0.001763</td>\n",
       "      <td>61.500923</td>\n",
       "      <td>1.203899</td>\n",
       "      <td>0.595404</td>\n",
       "      <td>1.0</td>\n",
       "    </tr>\n",
       "  </tbody>\n",
       "</table>\n",
       "<p>5 rows × 217 columns</p>\n",
       "</div>"
      ],
      "text/plain": [
       "   S2_B2_jan  S2_B3_jan    S2_B4_jan    S2_B5_jan    S2_B6_jan    S2_B7_jan  \\\n",
       "0 -14.271277 -21.134172   957.531174  1019.557045  1230.022834  1435.138891   \n",
       "1 -12.341429 -14.744978   949.227883   895.845779   987.517322  1350.496916   \n",
       "2 -12.317847 -17.026201  1087.616069  1086.401035  1185.755955  1529.674085   \n",
       "3 -15.332478 -20.978203  2987.224569  3163.553102  3412.572434  3908.443371   \n",
       "4 -11.739502 -11.374262   691.825857   782.111227   478.448214   976.753128   \n",
       "\n",
       "     S2_B8_jan   S2_B8A_jan    S2_B9_jan   S2_B11_jan  ...   S2_B11_dec  \\\n",
       "0  1693.702270  1805.411109  1891.557355  2020.567257  ...  2203.025469   \n",
       "1  1930.239804  2048.686546  2375.680146  2259.903290  ...  2922.382762   \n",
       "2  1858.981635  1904.667487  2082.954737  2115.713139  ...  2548.726966   \n",
       "3  4044.232162  4231.353770  3682.709329  4518.882323  ...  2537.545246   \n",
       "4  3189.134129  3813.893119  3861.824527  4174.591554  ...  4276.302643   \n",
       "\n",
       "    S2_B12_dec    S1_VV_dec    S1_VH_dec  ERA5_temperature_2m_dec  \\\n",
       "0   795.862978  2747.777894  1688.997611               289.382220   \n",
       "1  1140.796180  2528.590979  1934.261859               266.578370   \n",
       "2   521.102434  1556.082048   741.212901               276.467873   \n",
       "3  1073.588565  2388.141112  1367.682434               276.101799   \n",
       "4   371.861994  2080.641023   692.730434               298.663246   \n",
       "\n",
       "   ERA5_total_precipitation_dec  topo_elevation_dec  topo_slope_dec  NDVI_dec  \\\n",
       "0                      0.000147         1886.384195        0.749163  0.307887   \n",
       "1                      0.002876           69.876216        1.385904  0.097779   \n",
       "2                      0.001622           91.279743        2.125908  0.418492   \n",
       "3                      0.003720          767.817294        8.427714  0.336528   \n",
       "4                      0.001763           61.500923        1.203899  0.595404   \n",
       "\n",
       "   LABELS  \n",
       "0     0.0  \n",
       "1     1.0  \n",
       "2     1.0  \n",
       "3     1.0  \n",
       "4     1.0  \n",
       "\n",
       "[5 rows x 217 columns]"
      ]
     },
     "execution_count": 25,
     "metadata": {},
     "output_type": "execute_result"
    }
   ],
   "source": [
    "train_data = pd.read_csv('train.csv')\n",
    "train_data = train_data.drop(columns=['Unnamed: 0'])\n",
    "train_data.head()"
   ]
  },
  {
   "cell_type": "code",
   "execution_count": 26,
   "id": "917a3943-c859-488d-88b2-03f91ccc199b",
   "metadata": {},
   "outputs": [
    {
     "data": {
      "text/plain": [
       "dtype('float64')"
      ]
     },
     "execution_count": 26,
     "metadata": {},
     "output_type": "execute_result"
    }
   ],
   "source": [
    "train_data['LABELS'].dtype"
   ]
  },
  {
   "cell_type": "code",
   "execution_count": 27,
   "id": "ef57d154-4957-4812-90c2-edd840a36870",
   "metadata": {},
   "outputs": [],
   "source": [
    "X = train_data.drop(columns=['LABELS'])\n",
    "y = train_data['LABELS']"
   ]
  },
  {
   "cell_type": "code",
   "execution_count": 28,
   "id": "01ed792e-754d-43cf-befa-e44fa58ba3f8",
   "metadata": {},
   "outputs": [],
   "source": [
    "#Normalization\n",
    "scaler = StandardScaler()\n",
    "X = scaler.fit_transform(X)"
   ]
  },
  {
   "cell_type": "markdown",
   "id": "15365a6c",
   "metadata": {},
   "source": [
    "#### Grid Search with cross validation"
   ]
  },
  {
   "cell_type": "code",
   "execution_count": 29,
   "id": "33707ab2-c0d3-472e-aa67-b18a86538f57",
   "metadata": {},
   "outputs": [],
   "source": [
    "\n",
    "estimator = [int(x) for x in range(100,901,100)]\n",
    "max_features = ['auto', 'log2']\n",
    "max_depth = [1, 5, 7, 10, 15, 20]\n",
    "criteria = ['gini', 'entropy']\n",
    "class_weight = [{0.0: 1.7, 1.0: 1}]\n",
    "jobs = [-1]\n",
    "\n",
    "param_grid = {\n",
    "    'n_estimators': estimator,\n",
    "    'max_features':max_features,\n",
    "    'max_depth':max_depth,\n",
    "    'class_weight':class_weight,\n",
    "    'n_jobs':jobs,\n",
    "    'criterion': criteria,\n",
    "    'random_state':[42]\n",
    "}\n",
    "#grid search with above param grid and cross validation param as 3\n",
    "search = GridSearchCV(RandomForestClassifier(), param_grid, n_jobs=-1, cv=3)"
   ]
  },
  {
   "cell_type": "code",
   "execution_count": 30,
   "id": "4e222835-ed05-476b-bf0a-cf0335239b63",
   "metadata": {},
   "outputs": [
    {
     "data": {
      "text/plain": [
       "GridSearchCV(cv=3, estimator=RandomForestClassifier(), n_jobs=-1,\n",
       "             param_grid={'class_weight': [{0.0: 1.7, 1.0: 1}],\n",
       "                         'criterion': ['gini', 'entropy'],\n",
       "                         'max_depth': [1, 5, 7, 10, 15, 20],\n",
       "                         'max_features': ['auto', 'log2'],\n",
       "                         'n_estimators': [100, 200, 300, 400, 500, 600, 700,\n",
       "                                          800, 900],\n",
       "                         'n_jobs': [-1], 'random_state': [42]})"
      ]
     },
     "execution_count": 30,
     "metadata": {},
     "output_type": "execute_result"
    }
   ],
   "source": [
    "search.fit(X, y)"
   ]
  },
  {
   "cell_type": "code",
   "execution_count": 31,
   "id": "33e5d8d9",
   "metadata": {},
   "outputs": [
    {
     "data": {
      "text/plain": [
       "{'class_weight': {0.0: 1.7, 1.0: 1},\n",
       " 'criterion': 'entropy',\n",
       " 'max_depth': 20,\n",
       " 'max_features': 'auto',\n",
       " 'n_estimators': 800,\n",
       " 'n_jobs': -1,\n",
       " 'random_state': 42}"
      ]
     },
     "execution_count": 31,
     "metadata": {},
     "output_type": "execute_result"
    }
   ],
   "source": [
    "#Best Parameters\n",
    "search.best_params_"
   ]
  },
  {
   "cell_type": "code",
   "execution_count": 53,
   "id": "8d6d8266",
   "metadata": {},
   "outputs": [],
   "source": [
    "model = RandomForestClassifier(n_estimators=800, n_jobs=-1, random_state=42, class_weight={0.0: 1.7, 1.0: 1}, criterion='entropy', max_depth=20, max_features='auto')"
   ]
  },
  {
   "cell_type": "markdown",
   "id": "996f97c7",
   "metadata": {},
   "source": [
    "#### F1 Score and Crossvalidation of above obtained model "
   ]
  },
  {
   "cell_type": "code",
   "execution_count": 33,
   "id": "a4201563",
   "metadata": {},
   "outputs": [
    {
     "data": {
      "text/plain": [
       "RandomForestClassifier(class_weight={0.0: 1.7, 1.0: 1}, criterion='entropy',\n",
       "                       max_depth=20, n_estimators=800, n_jobs=-1,\n",
       "                       random_state=42)"
      ]
     },
     "execution_count": 33,
     "metadata": {},
     "output_type": "execute_result"
    }
   ],
   "source": [
    "#Fit model\n",
    "model.fit(X,y)"
   ]
  },
  {
   "cell_type": "code",
   "execution_count": 54,
   "id": "2a4124d9",
   "metadata": {},
   "outputs": [],
   "source": [
    "#Extra imports for f1 checking\n",
    "from sklearn.model_selection import train_test_split, cross_val_score\n",
    "from sklearn.metrics import f1_score, make_scorer"
   ]
  },
  {
   "cell_type": "code",
   "execution_count": 48,
   "id": "55e3255d",
   "metadata": {},
   "outputs": [],
   "source": [
    "#split dataset\n",
    "X_train, X_test, y_train, y_test = train_test_split(X,y, test_size=0.2, random_state=42)"
   ]
  },
  {
   "cell_type": "code",
   "execution_count": 50,
   "id": "f7f61ec2",
   "metadata": {},
   "outputs": [],
   "source": [
    "model.fit(X_train,y_train)\n",
    "res_val = model.predict(X_test)"
   ]
  },
  {
   "cell_type": "code",
   "execution_count": 52,
   "id": "795bb44e",
   "metadata": {},
   "outputs": [
    {
     "name": "stdout",
     "output_type": "stream",
     "text": [
      "0.8891498356035696\n"
     ]
    }
   ],
   "source": [
    "#F1 of the train test split\n",
    "print(f1_score(y_test, res_val))"
   ]
  },
  {
   "cell_type": "code",
   "execution_count": 55,
   "id": "a3612097",
   "metadata": {},
   "outputs": [
    {
     "data": {
      "text/plain": [
       "array([0.83597362, 0.84349254, 0.8385305 , 0.84566413, 0.85468797,\n",
       "       0.84868619, 0.83854123, 0.84525359, 0.84632737, 0.84395585])"
      ]
     },
     "execution_count": 55,
     "metadata": {},
     "output_type": "execute_result"
    }
   ],
   "source": [
    "#f1 based on cross validation using f1 based custom scorer\n",
    "scor = make_scorer(f1_score, average='weighted')\n",
    "cross_val_score(model, X, y, cv=10, scoring=scor)"
   ]
  }
 ],
 "metadata": {
  "kernelspec": {
   "display_name": "Python 3",
   "language": "python",
   "name": "python3"
  },
  "language_info": {
   "codemirror_mode": {
    "name": "ipython",
    "version": 3
   },
   "file_extension": ".py",
   "mimetype": "text/x-python",
   "name": "python",
   "nbconvert_exporter": "python",
   "pygments_lexer": "ipython3",
   "version": "3.8.8"
  }
 },
 "nbformat": 4,
 "nbformat_minor": 5
}
