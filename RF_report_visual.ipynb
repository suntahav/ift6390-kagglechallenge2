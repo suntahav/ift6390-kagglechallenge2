{
 "cells": [
  {
   "cell_type": "markdown",
   "id": "53416716",
   "metadata": {},
   "source": [
    "#### Imports and model creation"
   ]
  },
  {
   "cell_type": "code",
   "execution_count": 3,
   "id": "39072ebf-0670-418f-adc6-edb23dfef6d4",
   "metadata": {},
   "outputs": [],
   "source": [
    "import numpy as np\n",
    "import pandas as pd\n",
    "import math\n",
    "import xgboost as xgb\n",
    "import matplotlib.pyplot as plt \n",
    "from xgboost import plot_importance\n",
    "from sklearn.metrics import accuracy_score, ConfusionMatrixDisplay, plot_confusion_matrix, classification_report, f1_score\n",
    "from sklearn.preprocessing import StandardScaler\n",
    "from sklearn.utils import compute_sample_weight\n",
    "from sklearn.ensemble import RandomForestClassifier\n",
    "from sklearn.feature_selection import SelectFromModel\n",
    "from sklearn.model_selection import train_test_split\n",
    "import collections"
   ]
  },
  {
   "cell_type": "code",
   "execution_count": 4,
   "id": "167dda9d-0045-44e7-999c-b1155ae39971",
   "metadata": {},
   "outputs": [],
   "source": [
    "train = pd.read_csv('train.csv').drop(columns=['Unnamed: 0'])\n",
    "test = pd.read_csv('test_nolabels.csv').drop(columns=['S.No'])\n",
    "X = train.drop(columns='LABELS')\n",
    "y = train.loc[:,['LABELS']]\n",
    "X_train, X_val, y_train, y_val = train_test_split(X, y, test_size=0.2,random_state=1, stratify=y)"
   ]
  },
  {
   "cell_type": "code",
   "execution_count": 5,
   "id": "5999f117-ffa3-4dab-bc64-85a515b03efe",
   "metadata": {},
   "outputs": [
    {
     "data": {
      "text/plain": [
       "1.0    41217\n",
       "0.0    20783\n",
       "Name: LABELS, dtype: int64"
      ]
     },
     "execution_count": 5,
     "metadata": {},
     "output_type": "execute_result"
    }
   ],
   "source": [
    "train.LABELS.value_counts()"
   ]
  },
  {
   "cell_type": "code",
   "execution_count": 6,
   "id": "f36ce2c9-06bd-4611-a893-a1e1cf9413d1",
   "metadata": {},
   "outputs": [],
   "source": [
    "scaler = StandardScaler()\n",
    "scaler.fit(X_train)\n",
    "X_train_norm = scaler.transform(X_train)\n",
    "X_val_norm = scaler.transform(X_val)\n",
    "X_test = scaler.transform(test)"
   ]
  },
  {
   "cell_type": "code",
   "execution_count": 7,
   "id": "20788714-517f-4c06-a554-138666bad156",
   "metadata": {},
   "outputs": [],
   "source": [
    "model = RandomForestClassifier(n_estimators=800, n_jobs=-1, random_state=42, class_weight={0.0: 1.7, 1.0: 1}, criterion='entropy', max_depth=20, max_features='auto')"
   ]
  },
  {
   "cell_type": "code",
   "execution_count": 8,
   "id": "7f018502",
   "metadata": {},
   "outputs": [
    {
     "name": "stderr",
     "output_type": "stream",
     "text": [
      "<ipython-input-8-47af2adddb7c>:1: DataConversionWarning: A column-vector y was passed when a 1d array was expected. Please change the shape of y to (n_samples,), for example using ravel().\n",
      "  model.fit(X_train_norm,y_train)\n"
     ]
    },
    {
     "data": {
      "text/plain": [
       "RandomForestClassifier(class_weight={0.0: 1.7, 1.0: 1}, criterion='entropy',\n",
       "                       max_depth=20, n_estimators=800, n_jobs=-1,\n",
       "                       random_state=42)"
      ]
     },
     "execution_count": 8,
     "metadata": {},
     "output_type": "execute_result"
    }
   ],
   "source": [
    "model.fit(X_train_norm,y_train)"
   ]
  },
  {
   "cell_type": "code",
   "execution_count": 9,
   "id": "181ad43f-d8d0-4bb2-86bb-9daac3984204",
   "metadata": {},
   "outputs": [
    {
     "name": "stdout",
     "output_type": "stream",
     "text": [
      "Accuracy: 84.6%\n"
     ]
    }
   ],
   "source": [
    "val_preds = model.predict(X_val_norm)\n",
    "accuracy = accuracy_score(y_val,val_preds)\n",
    "print('Accuracy: {}%'.format(np.around(accuracy*100, 2)))"
   ]
  },
  {
   "cell_type": "code",
   "execution_count": 10,
   "id": "b3b960c6-cfa3-4da1-b415-468f8e9ed4ce",
   "metadata": {},
   "outputs": [
    {
     "name": "stdout",
     "output_type": "stream",
     "text": [
      "0.8870357227348001\n"
     ]
    }
   ],
   "source": [
    "print(f1_score(y_val, val_preds, average=\"binary\"))"
   ]
  },
  {
   "cell_type": "markdown",
   "id": "82f1795f",
   "metadata": {},
   "source": [
    "#### Classification Report"
   ]
  },
  {
   "cell_type": "code",
   "execution_count": 11,
   "id": "ff679277-5b35-4eb3-be05-42fa404b041d",
   "metadata": {},
   "outputs": [
    {
     "name": "stdout",
     "output_type": "stream",
     "text": [
      "              precision    recall  f1-score   support\n",
      "\n",
      "         0.0       0.80      0.72      0.76      4157\n",
      "         1.0       0.87      0.91      0.89      8243\n",
      "\n",
      "    accuracy                           0.85     12400\n",
      "   macro avg       0.83      0.81      0.82     12400\n",
      "weighted avg       0.84      0.85      0.84     12400\n",
      "\n"
     ]
    }
   ],
   "source": [
    "print(classification_report(y_val,val_preds))"
   ]
  },
  {
   "cell_type": "markdown",
   "id": "8ad2c7bd",
   "metadata": {},
   "source": [
    "#### Confusion Matrix"
   ]
  },
  {
   "cell_type": "code",
   "execution_count": 12,
   "id": "b51641a7-3e1b-4857-8c06-d00487e1f2d8",
   "metadata": {},
   "outputs": [
    {
     "name": "stderr",
     "output_type": "stream",
     "text": [
      "S:\\Software\\Installation\\Anaconda\\lib\\site-packages\\sklearn\\utils\\deprecation.py:87: FutureWarning: Function plot_confusion_matrix is deprecated; Function `plot_confusion_matrix` is deprecated in 1.0 and will be removed in 1.2. Use one of the class methods: ConfusionMatrixDisplay.from_predictions or ConfusionMatrixDisplay.from_estimator.\n",
      "  warnings.warn(msg, category=FutureWarning)\n"
     ]
    },
    {
     "data": {
      "image/png": "[encoded data removed]",
      "text/plain": [
       "<Figure size 720x720 with 2 Axes>"
      ]
     },
     "metadata": {
      "needs_background": "light"
     },
     "output_type": "display_data"
    }
   ],
   "source": [
    "fig,ax = plt.subplots(figsize=(10,10))\n",
    "plot_confusion_matrix(model,X_val_norm,y_val, ax=ax)\n",
    "plt.show()"
   ]
  }
 ],
 "metadata": {
  "kernelspec": {
   "display_name": "Python 3",
   "language": "python",
   "name": "python3"
  },
  "language_info": {
   "codemirror_mode": {
    "name": "ipython",
    "version": 3
   },
   "file_extension": ".py",
   "mimetype": "text/x-python",
   "name": "python",
   "nbconvert_exporter": "python",
   "pygments_lexer": "ipython3",
   "version": "3.8.8"
  }
 },
 "nbformat": 4,
 "nbformat_minor": 5
}
